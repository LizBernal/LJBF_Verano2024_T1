{
 "cells": [
  {
   "cell_type": "markdown",
   "id": "4d0a6402",
   "metadata": {},
   "source": [
    "Deporte. Se entrevistó a 30 personas para que indicaran cuál es su equipo de futbol preferido. Los\n",
    "resultados fueron los siguientes:"
   ]
  },
  {
   "cell_type": "markdown",
   "id": "91e51573",
   "metadata": {},
   "source": [
    "a. Construye la distribución de frecuencias correspondiente.\n",
    "\n",
    "b. Construye un diagrama de barras y uno circular."
   ]
  },
  {
   "cell_type": "code",
   "execution_count": 1,
   "id": "2eb6dcd3",
   "metadata": {},
   "outputs": [],
   "source": [
    "import CodeBase.Valeria as v\n",
    "import CodeBase.Carlos as c\n",
    "import CodeBase.Asael as am\n",
    "import CodeBase.Sebastian as s\n",
    "import CodeBase.Lizbeth as l\n",
    "#import CodeBase.formatear_tabla as tabla\n",
    "#import CodeBase.plot_poligono as p\n",
    "import CodeBase.indices as i\n",
    "import CodeBase.plot_barras as br\n",
    "import CodeBase.plot_pie as pie\n",
    "#import CodeBase.Manuel as m\n",
    "#import CodeBase.Granados as g\n",
    "#import CodeBase.Abraham as h\n",
    "import CodeBase.Calva as ca\n",
    "import CodeBase.Hernandez as z\n",
    "import CodeBase.tabla_letras as t"
   ]
  },
  {
   "cell_type": "code",
   "execution_count": 2,
   "id": "85032c11",
   "metadata": {},
   "outputs": [
    {
     "name": "stdout",
     "output_type": "stream",
     "text": [
      "Clases:  ['AMERICA', 'CHIVAS', 'NECAXA', 'PUMAS', 'SANTOS', 'TOLUCA']\n",
      "Frec. absoluta:  [8, 5, 2, 8, 3, 4]\n",
      "Frecuencia relativa: [26.666666666666668, 16.666666666666664, 6.666666666666667, 26.666666666666668, 10.0, 13.333333333333334]\n",
      "Frecuencia relativa acumulada: [26.666666666666668, 43.33333333333333, 49.99999999999999, 76.66666666666666, 86.66666666666666, 99.99999999999999]\n",
      "\n",
      "\n",
      "    Clases  Frecuencia absoluta  Frecuencia relativa  Frecuencia relativa acumulada\n",
      "0  AMERICA                    8            26.666667                      26.666667\n",
      "1   CHIVAS                    5            16.666667                      43.333333\n",
      "2   NECAXA                    2             6.666667                      50.000000\n",
      "3    PUMAS                    8            26.666667                      76.666667\n",
      "4   SANTOS                    3            10.000000                      86.666667\n",
      "5   TOLUCA                    4            13.333333                     100.000000\n"
     ]
    }
   ],
   "source": [
    "datos = ['Pumas', 'América',  'Chivas',  'Pumas',  'Chivas', \n",
    "'Chivas',  'América',  'Toluca',  'Toluca',  'Pumas',\n",
    "'Santos',  'Necaxa',  'América',  'América',  'América', \n",
    "'Pumas',  'Santos',  'Pumas',  'Pumas',  'Pumas', \n",
    "'América',  'Chivas',  'América',  'Pumas',  'Necaxa', \n",
    "'Toluca',  'Chivas',  'América',  'Toluca',  'Santos']\n",
    "datos_nuevos= ca.formateando_str(datos)\n",
    "ordenadas=z.ordenar_cadenas(datos_nuevos) \n",
    "clases, fa_absoluta= v.frec_abs(ordenadas)\n",
    "clases_sorted = c.ordenar_asc(clases)\n",
    "fa_sorted = am.sort_clases_fa(clases, clases_sorted, fa_absoluta)\n",
    "print (\"Clases: \", clases_sorted)\n",
    "print(\"Frec. absoluta: \", fa_sorted)\n",
    "frecuencia_relativa = s.obtener_frecuencia_relativa(fa_sorted)\n",
    "print(\"Frecuencia relativa:\", frecuencia_relativa)\n",
    "frecuencia_relativa_acumulada=l.obtener_frecuencia_relativa_acumulada(frecuencia_relativa)\n",
    "print(\"Frecuencia relativa acumulada:\", frecuencia_relativa_acumulada)\n",
    "marcas_clases= i.obtener_indices(clases)\n",
    "print()\n",
    "print()\n",
    "tabla=t.generar_tabla(clases, fa_sorted, frecuencia_relativa, frecuencia_relativa_acumulada)"
   ]
  }
 ],
 "metadata": {
  "kernelspec": {
   "display_name": "Python 3 (ipykernel)",
   "language": "python",
   "name": "python3"
  },
  "language_info": {
   "codemirror_mode": {
    "name": "ipython",
    "version": 3
   },
   "file_extension": ".py",
   "mimetype": "text/x-python",
   "name": "python",
   "nbconvert_exporter": "python",
   "pygments_lexer": "ipython3",
   "version": "3.12.1"
  }
 },
 "nbformat": 4,
 "nbformat_minor": 5
}
